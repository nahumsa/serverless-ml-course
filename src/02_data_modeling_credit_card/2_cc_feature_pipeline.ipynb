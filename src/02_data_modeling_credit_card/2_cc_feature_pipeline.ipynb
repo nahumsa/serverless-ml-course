{
 "cells": [
  {
   "cell_type": "markdown",
   "metadata": {},
   "source": [
    "# Feature Pipeline using Synthetic Data"
   ]
  },
  {
   "cell_type": "markdown",
   "metadata": {},
   "source": [
    "# 1) Reading synthetic credit card data and feature engineering"
   ]
  },
  {
   "cell_type": "code",
   "execution_count": 1,
   "metadata": {},
   "outputs": [],
   "source": [
    "import pandas as pd\n",
    "import datetime\n",
    "import hopsworks\n",
    "from sml import synthetic_data\n",
    "import random\n",
    "pd.options.mode.chained_assignment = None"
   ]
  },
  {
   "cell_type": "code",
   "execution_count": 5,
   "metadata": {},
   "outputs": [
    {
     "name": "stdout",
     "output_type": "stream",
     "text": [
      "Start time: 2022-10-16 21:01:37\n",
      "End time: 2022-10-17 21:01:37\n"
     ]
    }
   ],
   "source": [
    "start_time = (\n",
    "    datetime.datetime.now() - datetime.timedelta(hours=24)\n",
    "    ).strftime(\"%Y-%m-%d %H:%M:%S\")\n",
    "#end_time = (datetime.datetime.now() - datetime.timedelta(hours=24)).strftime(\"%Y-%m-%d %H:%M:%S\")\n",
    "end_time = datetime.datetime.now().strftime(\"%Y-%m-%d %H:%M:%S\")\n",
    "print(f\"Start time: {start_time}\")\n",
    "print(f\"End time: {end_time}\")"
   ]
  },
  {
   "cell_type": "code",
   "execution_count": 6,
   "metadata": {},
   "outputs": [],
   "source": [
    "synthetic_data.FRAUD_RATIO = random.uniform(0.001, 0.005)\n",
    "synthetic_data.TOTAL_UNIQUE_USERS = 1000\n",
    "synthetic_data.TOTAL_UNIQUE_TRANSACTIONS = 54000\n",
    "synthetic_data.CASH_WITHRAWAL_CARDS_TOTAL = 2000 \n",
    "synthetic_data.TOTAL_UNIQUE_CASH_WITHDRAWALS = 1200\n",
    "synthetic_data.START_DATE=start_time\n",
    "synthetic_data.END_DATE=end_time\n",
    "\n",
    "credit_cards = synthetic_data.generate_list_credit_card_numbers()\n",
    "credit_cards_df = synthetic_data.create_credit_cards_as_df(credit_cards)\n",
    "profiles_df = synthetic_data.create_profiles_as_df(credit_cards)\n",
    "trans_df = synthetic_data.create_transactions_as_df(credit_cards)"
   ]
  },
  {
   "cell_type": "markdown",
   "metadata": {},
   "source": [
    "# 2) Feature engineering\n",
    "\n",
    "Fraudulent transactions can differ from regular ones in many different ways. Typical red flags would for instance be a large transaction volume/frequency in the span of a few hours. It could also be the case that elderly people in particular are targeted by fraudsters. To facilitate model learning you will create additional features based on these patterns. In particular, you will create two types of features:\n",
    "\n",
    "1. Features that aggregate data from different data sources. This could for instance be the age of a customer at the time of a transaction, which combines the `birthdate` feature from `profiles.csv` with the datetime feature from `transactions.csv`.\n",
    "2. Features that aggregate data from multiple time steps. An example of this could be the transaction frequency of a credit card in the span of a few hours, which is computed using a window function.\n",
    "\n",
    "Let's start with the first category."
   ]
  },
  {
   "cell_type": "code",
   "execution_count": 7,
   "metadata": {},
   "outputs": [
    {
     "data": {
      "text/html": [
       "<div>\n",
       "<style scoped>\n",
       "    .dataframe tbody tr th:only-of-type {\n",
       "        vertical-align: middle;\n",
       "    }\n",
       "\n",
       "    .dataframe tbody tr th {\n",
       "        vertical-align: top;\n",
       "    }\n",
       "\n",
       "    .dataframe thead th {\n",
       "        text-align: right;\n",
       "    }\n",
       "</style>\n",
       "<table border=\"1\" class=\"dataframe\">\n",
       "  <thead>\n",
       "    <tr style=\"text-align: right;\">\n",
       "      <th></th>\n",
       "      <th>tid</th>\n",
       "      <th>cc_num</th>\n",
       "      <th>datetime</th>\n",
       "      <th>fraud_label</th>\n",
       "    </tr>\n",
       "  </thead>\n",
       "  <tbody>\n",
       "    <tr>\n",
       "      <th>0</th>\n",
       "      <td>1a9f7aa0e2eb4d927da56e02287875b5</td>\n",
       "      <td>4176332408257688</td>\n",
       "      <td>2022-10-16 21:01:38</td>\n",
       "      <td>0</td>\n",
       "    </tr>\n",
       "    <tr>\n",
       "      <th>1</th>\n",
       "      <td>2b546af6798a257b236228bfff036231</td>\n",
       "      <td>4895940069843701</td>\n",
       "      <td>2022-10-16 21:01:42</td>\n",
       "      <td>0</td>\n",
       "    </tr>\n",
       "    <tr>\n",
       "      <th>2</th>\n",
       "      <td>29e47ed4b9abf632727107b0e1c6dc1e</td>\n",
       "      <td>4562180039969078</td>\n",
       "      <td>2022-10-16 21:01:42</td>\n",
       "      <td>0</td>\n",
       "    </tr>\n",
       "    <tr>\n",
       "      <th>3</th>\n",
       "      <td>089611cbb4cd6d6cecb27461a5093f03</td>\n",
       "      <td>4899899195688156</td>\n",
       "      <td>2022-10-16 21:01:43</td>\n",
       "      <td>0</td>\n",
       "    </tr>\n",
       "    <tr>\n",
       "      <th>4</th>\n",
       "      <td>c9d6198db1a305ed98888850a512786f</td>\n",
       "      <td>4890552643648087</td>\n",
       "      <td>2022-10-16 21:01:47</td>\n",
       "      <td>0</td>\n",
       "    </tr>\n",
       "    <tr>\n",
       "      <th>...</th>\n",
       "      <td>...</td>\n",
       "      <td>...</td>\n",
       "      <td>...</td>\n",
       "      <td>...</td>\n",
       "    </tr>\n",
       "    <tr>\n",
       "      <th>71318</th>\n",
       "      <td>031c63e933b9c92079794a7675df2837</td>\n",
       "      <td>4548269955223195</td>\n",
       "      <td>2022-11-23 02:02:02</td>\n",
       "      <td>0</td>\n",
       "    </tr>\n",
       "    <tr>\n",
       "      <th>71319</th>\n",
       "      <td>9c7dbefb6e349030471b48e5bfcffcfe</td>\n",
       "      <td>4548269955223195</td>\n",
       "      <td>2022-11-29 06:02:02</td>\n",
       "      <td>0</td>\n",
       "    </tr>\n",
       "    <tr>\n",
       "      <th>71320</th>\n",
       "      <td>197dd063fc62b6fe316e2d4df57c57a4</td>\n",
       "      <td>4548269955223195</td>\n",
       "      <td>2022-12-05 10:02:02</td>\n",
       "      <td>0</td>\n",
       "    </tr>\n",
       "    <tr>\n",
       "      <th>71321</th>\n",
       "      <td>4f8d625d953d194e69252c190fb019d8</td>\n",
       "      <td>4548269955223195</td>\n",
       "      <td>2022-12-11 14:02:02</td>\n",
       "      <td>0</td>\n",
       "    </tr>\n",
       "    <tr>\n",
       "      <th>71322</th>\n",
       "      <td>f316134cef05705b52215f720c256e75</td>\n",
       "      <td>4548269955223195</td>\n",
       "      <td>2022-12-17 18:02:02</td>\n",
       "      <td>0</td>\n",
       "    </tr>\n",
       "  </tbody>\n",
       "</table>\n",
       "<p>71323 rows × 4 columns</p>\n",
       "</div>"
      ],
      "text/plain": [
       "                                    tid            cc_num            datetime  \\\n",
       "0      1a9f7aa0e2eb4d927da56e02287875b5  4176332408257688 2022-10-16 21:01:38   \n",
       "1      2b546af6798a257b236228bfff036231  4895940069843701 2022-10-16 21:01:42   \n",
       "2      29e47ed4b9abf632727107b0e1c6dc1e  4562180039969078 2022-10-16 21:01:42   \n",
       "3      089611cbb4cd6d6cecb27461a5093f03  4899899195688156 2022-10-16 21:01:43   \n",
       "4      c9d6198db1a305ed98888850a512786f  4890552643648087 2022-10-16 21:01:47   \n",
       "...                                 ...               ...                 ...   \n",
       "71318  031c63e933b9c92079794a7675df2837  4548269955223195 2022-11-23 02:02:02   \n",
       "71319  9c7dbefb6e349030471b48e5bfcffcfe  4548269955223195 2022-11-29 06:02:02   \n",
       "71320  197dd063fc62b6fe316e2d4df57c57a4  4548269955223195 2022-12-05 10:02:02   \n",
       "71321  4f8d625d953d194e69252c190fb019d8  4548269955223195 2022-12-11 14:02:02   \n",
       "71322  f316134cef05705b52215f720c256e75  4548269955223195 2022-12-17 18:02:02   \n",
       "\n",
       "       fraud_label  \n",
       "0                0  \n",
       "1                0  \n",
       "2                0  \n",
       "3                0  \n",
       "4                0  \n",
       "...            ...  \n",
       "71318            0  \n",
       "71319            0  \n",
       "71320            0  \n",
       "71321            0  \n",
       "71322            0  \n",
       "\n",
       "[71323 rows x 4 columns]"
      ]
     },
     "execution_count": 7,
     "metadata": {},
     "output_type": "execute_result"
    }
   ],
   "source": [
    "fraud_labels = trans_df.copy()[[\"tid\", \"cc_num\", \"datetime\", \"fraud_label\"]]\n",
    "fraud_labels"
   ]
  },
  {
   "cell_type": "code",
   "execution_count": 8,
   "metadata": {},
   "outputs": [
    {
     "data": {
      "text/html": [
       "<div>\n",
       "<style scoped>\n",
       "    .dataframe tbody tr th:only-of-type {\n",
       "        vertical-align: middle;\n",
       "    }\n",
       "\n",
       "    .dataframe tbody tr th {\n",
       "        vertical-align: top;\n",
       "    }\n",
       "\n",
       "    .dataframe thead th {\n",
       "        text-align: right;\n",
       "    }\n",
       "</style>\n",
       "<table border=\"1\" class=\"dataframe\">\n",
       "  <thead>\n",
       "    <tr style=\"text-align: right;\">\n",
       "      <th></th>\n",
       "      <th>tid</th>\n",
       "      <th>cc_num</th>\n",
       "      <th>datetime</th>\n",
       "      <th>fraud_label</th>\n",
       "    </tr>\n",
       "  </thead>\n",
       "  <tbody>\n",
       "    <tr>\n",
       "      <th>0</th>\n",
       "      <td>1a9f7aa0e2eb4d927da56e02287875b5</td>\n",
       "      <td>4176332408257688</td>\n",
       "      <td>1665954098000</td>\n",
       "      <td>0</td>\n",
       "    </tr>\n",
       "    <tr>\n",
       "      <th>1</th>\n",
       "      <td>2b546af6798a257b236228bfff036231</td>\n",
       "      <td>4895940069843701</td>\n",
       "      <td>1665954102000</td>\n",
       "      <td>0</td>\n",
       "    </tr>\n",
       "    <tr>\n",
       "      <th>2</th>\n",
       "      <td>29e47ed4b9abf632727107b0e1c6dc1e</td>\n",
       "      <td>4562180039969078</td>\n",
       "      <td>1665954102000</td>\n",
       "      <td>0</td>\n",
       "    </tr>\n",
       "    <tr>\n",
       "      <th>3</th>\n",
       "      <td>089611cbb4cd6d6cecb27461a5093f03</td>\n",
       "      <td>4899899195688156</td>\n",
       "      <td>1665954103000</td>\n",
       "      <td>0</td>\n",
       "    </tr>\n",
       "    <tr>\n",
       "      <th>4</th>\n",
       "      <td>c9d6198db1a305ed98888850a512786f</td>\n",
       "      <td>4890552643648087</td>\n",
       "      <td>1665954107000</td>\n",
       "      <td>0</td>\n",
       "    </tr>\n",
       "    <tr>\n",
       "      <th>...</th>\n",
       "      <td>...</td>\n",
       "      <td>...</td>\n",
       "      <td>...</td>\n",
       "      <td>...</td>\n",
       "    </tr>\n",
       "    <tr>\n",
       "      <th>71318</th>\n",
       "      <td>031c63e933b9c92079794a7675df2837</td>\n",
       "      <td>4548269955223195</td>\n",
       "      <td>1669168922000</td>\n",
       "      <td>0</td>\n",
       "    </tr>\n",
       "    <tr>\n",
       "      <th>71319</th>\n",
       "      <td>9c7dbefb6e349030471b48e5bfcffcfe</td>\n",
       "      <td>4548269955223195</td>\n",
       "      <td>1669701722000</td>\n",
       "      <td>0</td>\n",
       "    </tr>\n",
       "    <tr>\n",
       "      <th>71320</th>\n",
       "      <td>197dd063fc62b6fe316e2d4df57c57a4</td>\n",
       "      <td>4548269955223195</td>\n",
       "      <td>1670234522000</td>\n",
       "      <td>0</td>\n",
       "    </tr>\n",
       "    <tr>\n",
       "      <th>71321</th>\n",
       "      <td>4f8d625d953d194e69252c190fb019d8</td>\n",
       "      <td>4548269955223195</td>\n",
       "      <td>1670767322000</td>\n",
       "      <td>0</td>\n",
       "    </tr>\n",
       "    <tr>\n",
       "      <th>71322</th>\n",
       "      <td>f316134cef05705b52215f720c256e75</td>\n",
       "      <td>4548269955223195</td>\n",
       "      <td>1671300122000</td>\n",
       "      <td>0</td>\n",
       "    </tr>\n",
       "  </tbody>\n",
       "</table>\n",
       "<p>71323 rows × 4 columns</p>\n",
       "</div>"
      ],
      "text/plain": [
       "                                    tid            cc_num       datetime  \\\n",
       "0      1a9f7aa0e2eb4d927da56e02287875b5  4176332408257688  1665954098000   \n",
       "1      2b546af6798a257b236228bfff036231  4895940069843701  1665954102000   \n",
       "2      29e47ed4b9abf632727107b0e1c6dc1e  4562180039969078  1665954102000   \n",
       "3      089611cbb4cd6d6cecb27461a5093f03  4899899195688156  1665954103000   \n",
       "4      c9d6198db1a305ed98888850a512786f  4890552643648087  1665954107000   \n",
       "...                                 ...               ...            ...   \n",
       "71318  031c63e933b9c92079794a7675df2837  4548269955223195  1669168922000   \n",
       "71319  9c7dbefb6e349030471b48e5bfcffcfe  4548269955223195  1669701722000   \n",
       "71320  197dd063fc62b6fe316e2d4df57c57a4  4548269955223195  1670234522000   \n",
       "71321  4f8d625d953d194e69252c190fb019d8  4548269955223195  1670767322000   \n",
       "71322  f316134cef05705b52215f720c256e75  4548269955223195  1671300122000   \n",
       "\n",
       "       fraud_label  \n",
       "0                0  \n",
       "1                0  \n",
       "2                0  \n",
       "3                0  \n",
       "4                0  \n",
       "...            ...  \n",
       "71318            0  \n",
       "71319            0  \n",
       "71320            0  \n",
       "71321            0  \n",
       "71322            0  \n",
       "\n",
       "[71323 rows x 4 columns]"
      ]
     },
     "execution_count": 8,
     "metadata": {},
     "output_type": "execute_result"
    }
   ],
   "source": [
    "from sml import cc_features\n",
    "\n",
    "fraud_labels.datetime = fraud_labels.datetime.map(lambda x: cc_features.date_to_timestamp(x))\n",
    "fraud_labels"
   ]
  },
  {
   "cell_type": "code",
   "execution_count": 9,
   "metadata": {},
   "outputs": [
    {
     "data": {
      "text/html": [
       "<div>\n",
       "<style scoped>\n",
       "    .dataframe tbody tr th:only-of-type {\n",
       "        vertical-align: middle;\n",
       "    }\n",
       "\n",
       "    .dataframe tbody tr th {\n",
       "        vertical-align: top;\n",
       "    }\n",
       "\n",
       "    .dataframe thead th {\n",
       "        text-align: right;\n",
       "    }\n",
       "</style>\n",
       "<table border=\"1\" class=\"dataframe\">\n",
       "  <thead>\n",
       "    <tr style=\"text-align: right;\">\n",
       "      <th></th>\n",
       "      <th>tid</th>\n",
       "      <th>datetime</th>\n",
       "      <th>cc_num</th>\n",
       "      <th>category</th>\n",
       "      <th>amount</th>\n",
       "      <th>latitude</th>\n",
       "      <th>longitude</th>\n",
       "      <th>city</th>\n",
       "      <th>country</th>\n",
       "    </tr>\n",
       "  </thead>\n",
       "  <tbody>\n",
       "    <tr>\n",
       "      <th>0</th>\n",
       "      <td>1a9f7aa0e2eb4d927da56e02287875b5</td>\n",
       "      <td>2022-10-16 21:01:38</td>\n",
       "      <td>4176332408257688</td>\n",
       "      <td>Electronics</td>\n",
       "      <td>456.97</td>\n",
       "      <td>36.610330</td>\n",
       "      <td>-88.314760</td>\n",
       "      <td>Murray</td>\n",
       "      <td>US</td>\n",
       "    </tr>\n",
       "    <tr>\n",
       "      <th>1</th>\n",
       "      <td>2b546af6798a257b236228bfff036231</td>\n",
       "      <td>2022-10-16 21:01:42</td>\n",
       "      <td>4895940069843701</td>\n",
       "      <td>Grocery</td>\n",
       "      <td>71.93</td>\n",
       "      <td>42.168080</td>\n",
       "      <td>-88.428140</td>\n",
       "      <td>Huntley</td>\n",
       "      <td>US</td>\n",
       "    </tr>\n",
       "    <tr>\n",
       "      <th>2</th>\n",
       "      <td>29e47ed4b9abf632727107b0e1c6dc1e</td>\n",
       "      <td>2022-10-16 21:01:42</td>\n",
       "      <td>4562180039969078</td>\n",
       "      <td>Restaurant/Cafeteria</td>\n",
       "      <td>10.87</td>\n",
       "      <td>36.208290</td>\n",
       "      <td>-115.983910</td>\n",
       "      <td>Pahrump</td>\n",
       "      <td>US</td>\n",
       "    </tr>\n",
       "    <tr>\n",
       "      <th>3</th>\n",
       "      <td>089611cbb4cd6d6cecb27461a5093f03</td>\n",
       "      <td>2022-10-16 21:01:43</td>\n",
       "      <td>4899899195688156</td>\n",
       "      <td>Grocery</td>\n",
       "      <td>79.64</td>\n",
       "      <td>41.503430</td>\n",
       "      <td>-74.010420</td>\n",
       "      <td>Newburgh</td>\n",
       "      <td>US</td>\n",
       "    </tr>\n",
       "    <tr>\n",
       "      <th>4</th>\n",
       "      <td>c9d6198db1a305ed98888850a512786f</td>\n",
       "      <td>2022-10-16 21:01:47</td>\n",
       "      <td>4890552643648087</td>\n",
       "      <td>Holliday/Travel</td>\n",
       "      <td>43.42</td>\n",
       "      <td>42.970860</td>\n",
       "      <td>-82.424910</td>\n",
       "      <td>Port Huron</td>\n",
       "      <td>US</td>\n",
       "    </tr>\n",
       "    <tr>\n",
       "      <th>...</th>\n",
       "      <td>...</td>\n",
       "      <td>...</td>\n",
       "      <td>...</td>\n",
       "      <td>...</td>\n",
       "      <td>...</td>\n",
       "      <td>...</td>\n",
       "      <td>...</td>\n",
       "      <td>...</td>\n",
       "      <td>...</td>\n",
       "    </tr>\n",
       "    <tr>\n",
       "      <th>71318</th>\n",
       "      <td>031c63e933b9c92079794a7675df2837</td>\n",
       "      <td>2022-11-23 02:02:02</td>\n",
       "      <td>4548269955223195</td>\n",
       "      <td>Cash Withdrawal</td>\n",
       "      <td>31.15</td>\n",
       "      <td>40.841212</td>\n",
       "      <td>-74.180420</td>\n",
       "      <td>Nutley</td>\n",
       "      <td>US</td>\n",
       "    </tr>\n",
       "    <tr>\n",
       "      <th>71319</th>\n",
       "      <td>9c7dbefb6e349030471b48e5bfcffcfe</td>\n",
       "      <td>2022-11-29 06:02:02</td>\n",
       "      <td>4548269955223195</td>\n",
       "      <td>Cash Withdrawal</td>\n",
       "      <td>147.79</td>\n",
       "      <td>40.833017</td>\n",
       "      <td>-74.178175</td>\n",
       "      <td>Nutley</td>\n",
       "      <td>US</td>\n",
       "    </tr>\n",
       "    <tr>\n",
       "      <th>71320</th>\n",
       "      <td>197dd063fc62b6fe316e2d4df57c57a4</td>\n",
       "      <td>2022-12-05 10:02:02</td>\n",
       "      <td>4548269955223195</td>\n",
       "      <td>Cash Withdrawal</td>\n",
       "      <td>49.92</td>\n",
       "      <td>40.832383</td>\n",
       "      <td>-74.171125</td>\n",
       "      <td>Nutley</td>\n",
       "      <td>US</td>\n",
       "    </tr>\n",
       "    <tr>\n",
       "      <th>71321</th>\n",
       "      <td>4f8d625d953d194e69252c190fb019d8</td>\n",
       "      <td>2022-12-11 14:02:02</td>\n",
       "      <td>4548269955223195</td>\n",
       "      <td>Cash Withdrawal</td>\n",
       "      <td>437.25</td>\n",
       "      <td>40.835260</td>\n",
       "      <td>-74.169988</td>\n",
       "      <td>Nutley</td>\n",
       "      <td>US</td>\n",
       "    </tr>\n",
       "    <tr>\n",
       "      <th>71322</th>\n",
       "      <td>f316134cef05705b52215f720c256e75</td>\n",
       "      <td>2022-12-17 18:02:02</td>\n",
       "      <td>4548269955223195</td>\n",
       "      <td>Cash Withdrawal</td>\n",
       "      <td>9444.41</td>\n",
       "      <td>40.834881</td>\n",
       "      <td>-74.176681</td>\n",
       "      <td>Nutley</td>\n",
       "      <td>US</td>\n",
       "    </tr>\n",
       "  </tbody>\n",
       "</table>\n",
       "<p>71323 rows × 9 columns</p>\n",
       "</div>"
      ],
      "text/plain": [
       "                                    tid            datetime            cc_num  \\\n",
       "0      1a9f7aa0e2eb4d927da56e02287875b5 2022-10-16 21:01:38  4176332408257688   \n",
       "1      2b546af6798a257b236228bfff036231 2022-10-16 21:01:42  4895940069843701   \n",
       "2      29e47ed4b9abf632727107b0e1c6dc1e 2022-10-16 21:01:42  4562180039969078   \n",
       "3      089611cbb4cd6d6cecb27461a5093f03 2022-10-16 21:01:43  4899899195688156   \n",
       "4      c9d6198db1a305ed98888850a512786f 2022-10-16 21:01:47  4890552643648087   \n",
       "...                                 ...                 ...               ...   \n",
       "71318  031c63e933b9c92079794a7675df2837 2022-11-23 02:02:02  4548269955223195   \n",
       "71319  9c7dbefb6e349030471b48e5bfcffcfe 2022-11-29 06:02:02  4548269955223195   \n",
       "71320  197dd063fc62b6fe316e2d4df57c57a4 2022-12-05 10:02:02  4548269955223195   \n",
       "71321  4f8d625d953d194e69252c190fb019d8 2022-12-11 14:02:02  4548269955223195   \n",
       "71322  f316134cef05705b52215f720c256e75 2022-12-17 18:02:02  4548269955223195   \n",
       "\n",
       "                   category   amount   latitude   longitude        city  \\\n",
       "0               Electronics   456.97  36.610330  -88.314760      Murray   \n",
       "1                   Grocery    71.93  42.168080  -88.428140     Huntley   \n",
       "2      Restaurant/Cafeteria    10.87  36.208290 -115.983910     Pahrump   \n",
       "3                   Grocery    79.64  41.503430  -74.010420    Newburgh   \n",
       "4           Holliday/Travel    43.42  42.970860  -82.424910  Port Huron   \n",
       "...                     ...      ...        ...         ...         ...   \n",
       "71318       Cash Withdrawal    31.15  40.841212  -74.180420      Nutley   \n",
       "71319       Cash Withdrawal   147.79  40.833017  -74.178175      Nutley   \n",
       "71320       Cash Withdrawal    49.92  40.832383  -74.171125      Nutley   \n",
       "71321       Cash Withdrawal   437.25  40.835260  -74.169988      Nutley   \n",
       "71322       Cash Withdrawal  9444.41  40.834881  -74.176681      Nutley   \n",
       "\n",
       "      country  \n",
       "0          US  \n",
       "1          US  \n",
       "2          US  \n",
       "3          US  \n",
       "4          US  \n",
       "...       ...  \n",
       "71318      US  \n",
       "71319      US  \n",
       "71320      US  \n",
       "71321      US  \n",
       "71322      US  \n",
       "\n",
       "[71323 rows x 9 columns]"
      ]
     },
     "execution_count": 9,
     "metadata": {},
     "output_type": "execute_result"
    }
   ],
   "source": [
    "trans_df.drop(['fraud_label'], inplace = True, axis=1)\n",
    "trans_df"
   ]
  },
  {
   "cell_type": "markdown",
   "metadata": {},
   "source": [
    "Next, you will create features that for each credit card aggregate data from multiple time steps.\n",
    "\n",
    "Yoy will start by computing the distance between consecutive transactions, lets call it `loc_delta`. Here you will use the Haversine distance to quantify the distance between two longitude and latitude coordinates.\n",
    "\n",
    "Next lets compute windowed aggregates. Here you will use 4-hour windows, but feel free to experiment with different window lengths by setting `WINDOW_LEN` below to a value of your choice."
   ]
  },
  {
   "cell_type": "code",
   "execution_count": 10,
   "metadata": {},
   "outputs": [],
   "source": [
    "trans_df = cc_features.card_owner_age(trans_df, profiles_df)\n",
    "trans_df = cc_features.expiry_days(trans_df, credit_cards_df)\n",
    "trans_df = cc_features.activity_level(trans_df, 1)"
   ]
  },
  {
   "cell_type": "code",
   "execution_count": 11,
   "metadata": {},
   "outputs": [],
   "source": [
    "WINDOW_LEN = 4\n",
    "window_aggs_df = cc_features.aggregate_activity_by_hour(trans_df, WINDOW_LEN)"
   ]
  },
  {
   "cell_type": "code",
   "execution_count": 12,
   "metadata": {},
   "outputs": [
    {
     "name": "stdout",
     "output_type": "stream",
     "text": [
      "Connected. Call `.close()` to terminate connection gracefully.\n",
      "\n",
      "Logged in to project, explore it here https://c.app.hopsworks.ai:443/p/2266\n"
     ]
    },
    {
     "name": "stderr",
     "output_type": "stream",
     "text": [
      "DeprecationWarning: the imp module is deprecated in favour of importlib; see the module's documentation for alternative uses\n"
     ]
    },
    {
     "name": "stdout",
     "output_type": "stream",
     "text": [
      "Connected. Call `.close()` to terminate connection gracefully.\n"
     ]
    }
   ],
   "source": [
    "project = hopsworks.login()\n",
    "fs = project.get_feature_store()"
   ]
  },
  {
   "cell_type": "markdown",
   "metadata": {},
   "source": [
    "Add to the feature store"
   ]
  },
  {
   "cell_type": "code",
   "execution_count": 13,
   "metadata": {},
   "outputs": [
    {
     "data": {
      "application/vnd.jupyter.widget-view+json": {
       "model_id": "08758e0b39f84914aa2614fbcfb9d3f2",
       "version_major": 2,
       "version_minor": 0
      },
      "text/plain": [
       "Uploading Dataframe: 0.00% |          | Rows 0/71323 | Elapsed Time: 00:00 | Remaining Time: ?"
      ]
     },
     "metadata": {},
     "output_type": "display_data"
    },
    {
     "name": "stdout",
     "output_type": "stream",
     "text": [
      "Launching offline feature group backfill job...\n",
      "Backfill Job started successfully, you can follow the progress at \n",
      "https://c.app.hopsworks.ai/p/2266/jobs/named/cc_trans_fraud_2_offline_fg_backfill/executions\n"
     ]
    },
    {
     "data": {
      "text/plain": [
       "(<hsfs.core.job.Job at 0x7fb15f413910>, None)"
      ]
     },
     "execution_count": 13,
     "metadata": {},
     "output_type": "execute_result"
    }
   ],
   "source": [
    "trans_fg = fs.get_feature_group(name=\"cc_trans_fraud\", version=2)\n",
    "trans_fg.insert(trans_df, write_options={\"wait_for_job\" : False})"
   ]
  },
  {
   "cell_type": "code",
   "execution_count": 14,
   "metadata": {},
   "outputs": [
    {
     "data": {
      "application/vnd.jupyter.widget-view+json": {
       "model_id": "9f5d78ceff514ddb842f482d9bc3622c",
       "version_major": 2,
       "version_minor": 0
      },
      "text/plain": [
       "Uploading Dataframe: 0.00% |          | Rows 0/71323 | Elapsed Time: 00:00 | Remaining Time: ?"
      ]
     },
     "metadata": {},
     "output_type": "display_data"
    },
    {
     "name": "stdout",
     "output_type": "stream",
     "text": [
      "Launching offline feature group backfill job...\n",
      "Backfill Job started successfully, you can follow the progress at \n",
      "https://c.app.hopsworks.ai/p/2266/jobs/named/cc_trans_fraud_4h_2_offline_fg_backfill/executions\n"
     ]
    },
    {
     "data": {
      "text/plain": [
       "(<hsfs.core.job.Job at 0x7fb1ecb92730>, None)"
      ]
     },
     "execution_count": 14,
     "metadata": {},
     "output_type": "execute_result"
    }
   ],
   "source": [
    "window_aggs_fg = fs.get_feature_group(name=f\"cc_trans_fraud_{WINDOW_LEN}h\", version=2)\n",
    "window_aggs_fg.insert(window_aggs_df, write_options={\"wait_for_job\" : False})"
   ]
  },
  {
   "cell_type": "code",
   "execution_count": 15,
   "metadata": {},
   "outputs": [
    {
     "data": {
      "application/vnd.jupyter.widget-view+json": {
       "model_id": "09eaf098818d43fba3944fa720bf94e4",
       "version_major": 2,
       "version_minor": 0
      },
      "text/plain": [
       "Uploading Dataframe: 0.00% |          | Rows 0/71323 | Elapsed Time: 00:00 | Remaining Time: ?"
      ]
     },
     "metadata": {},
     "output_type": "display_data"
    },
    {
     "name": "stdout",
     "output_type": "stream",
     "text": [
      "Launching offline feature group backfill job...\n",
      "Backfill Job started successfully, you can follow the progress at \n",
      "https://c.app.hopsworks.ai/p/2266/jobs/named/transactions_fraud_label_2_offline_fg_backfill/executions\n"
     ]
    },
    {
     "data": {
      "text/plain": [
       "(<hsfs.core.job.Job at 0x7fb15fa88c10>, None)"
      ]
     },
     "execution_count": 15,
     "metadata": {},
     "output_type": "execute_result"
    }
   ],
   "source": [
    "labels_fg = fs.get_feature_group(name=\"transactions_fraud_label\", version=2)\n",
    "labels_fg.insert(fraud_labels)"
   ]
  },
  {
   "cell_type": "code",
   "execution_count": null,
   "metadata": {},
   "outputs": [],
   "source": []
  }
 ],
 "metadata": {
  "kernelspec": {
   "display_name": "Python 3.8.10 ('.venv': pipenv)",
   "language": "python",
   "name": "python3"
  },
  "language_info": {
   "codemirror_mode": {
    "name": "ipython",
    "version": 3
   },
   "file_extension": ".py",
   "mimetype": "text/x-python",
   "name": "python",
   "nbconvert_exporter": "python",
   "pygments_lexer": "ipython3",
   "version": "3.8.10"
  },
  "orig_nbformat": 4,
  "vscode": {
   "interpreter": {
    "hash": "0692f9abf33ec7d7f636af44619995bfad1f62ba054f885b0a00cb796aec0ec3"
   }
  }
 },
 "nbformat": 4,
 "nbformat_minor": 2
}
